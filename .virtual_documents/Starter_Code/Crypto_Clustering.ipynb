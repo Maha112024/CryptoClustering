# Import required libraries and dependencies
import pandas as pd
import hvplot.pandas
from sklearn.cluster import KMeans
from sklearn.decomposition import PCA
from sklearn.preprocessing import StandardScaler
import numpy as np


# Load the data into a Pandas DataFrame
df_market_data = pd.read_csv(
    "Resources/crypto_market_data.csv",
    index_col="coin_id")

# Display sample data
df_market_data.head(10)


# Generate summary statistics
df_market_data.describe()


# Plot your data to see what's in your DataFrame
df_market_data.hvplot.line(
    width=800,
    height=400,
    rot=90
)








# Use the `StandardScaler()` module from scikit-learn to normalize the data from the CSV file
df_market_scaled = StandardScaler().fit_transform(df_market_data[["price_change_percentage_24h","price_change_percentage_7d","price_change_percentage_14d",
                                                                    "price_change_percentage_30d","price_change_percentage_60d","price_change_percentage_200d","price_change_percentage_1y"]])


# Create a DataFrame with the scaled data
df_market_scaled=pd.DataFrame(df_market_scaled, 
                             columns=['price_change_percentage_24h', 'price_change_percentage_7d',
                                       'price_change_percentage_14d', 'price_change_percentage_30d',
                                       'price_change_percentage_60d', 'price_change_percentage_200d',
                                       'price_change_percentage_1y'])

# Copy the crypto names from the original DataFrame
df_market_scaled['Crypto_names']=df_market_data.index

# Set the coin_id column as index
df_market_scaled=df_market_scaled.set_index('Crypto_names')

# Display the scaled DataFrame
df_market_scaled.head(10)








# Create a list with the number of k-values from 1 to 11
k=list(range(1,11))


# Create an empty list to store the inertia values
inertia=[]

# Create a for loop to compute the inertia with each possible value of k
# Inside the loop:
# 1. Create a KMeans model using the loop counter for the n_clusters
# 2. Fit the model to the data using `df_market_data_scaled`
# 3. Append the model.inertia_ to the inertia list
for i in k:
    k_model = KMeans(n_clusters=i, random_state=1)
    k_model.fit(df_market_scaled)
    inertia.append(k_model.inertia_)


# Create a dictionary with the data to plot the Elbow curve
elbow_data = {"k_original": k, "inertia": inertia}

# Create a DataFrame with the data to plot the Elbow curve
df_elbow_original = pd.DataFrame(elbow_data)


# Plot a line chart with all the inertia values computed with
# the different values of k to visually identify the optimal value for k.
elbow_plot = df_elbow_original.hvplot.line(
    x="k_original", 
    y="inertia", 
    title="Elbow Curve", 
    xticks=k
)

elbow_plot











# Initialize the K-Means model using the best value for k
model = KMeans(n_clusters=4, random_state=1)


# Fit the K-Means model using the scaled DataFrame
model.fit(df_market_scaled)


# Predict the clusters to group the cryptocurrencies using the scaled DataFrame
kmeans_predictions = model.predict(df_market_scaled)

# Print the resulting array of cluster values.
kmeans_predictions


# Create a copy of the scaled DataFrame
df_market_scaled_prediction=df_market_scaled.copy()


# Add a new column to the copy of the scaled DataFrame with the predicted clusters
df_market_scaled_prediction['Prediction']=kmeans_predictions

# Display sample data
df_market_scaled_prediction.head()


# Create a scatter plot using hvPlot by setting
# `x="price_change_percentage_24h"` and `y="price_change_percentage_7d"`.
# Color the graph points with the labels found using K-Means and
# add the crypto name in the `hover_cols` parameter to identify
# the cryptocurrency represented by each data point.

market_scaled_plot=df_market_scaled_prediction.hvplot.scatter(
                    x="price_change_percentage_24h",
                    y="price_change_percentage_7d",
                    by="Prediction",
                    hover_cols=['Crypto_names']
                )

market_scaled_plot








# Create a PCA model instance and set `n_components=3`.
pca = PCA(n_components=3)


# Use the PCA model with `fit_transform` to reduce the original scaled DataFrame
# down to three principal components.
market_pca = pca.fit_transform(df_market_scaled)

# View the scaled PCA data
market_pca[:5]


# Retrieve the explained variance to determine how much information
# can be attributed to each principal component.
pca.explained_variance_ratio_




total_explained_variance = np.sum(pca.explained_variance_ratio_)
total_explained_variance





# Create a new DataFrame with the PCA data.
market_pca_df = pd.DataFrame(
    market_pca,
    columns=["PCA1", "PCA2" , "PCA3"]
)

# Copy the crypto names from the original scaled DataFrame
market_pca_df["Crypto_names"]=df_market_data.index

# Set the coin_id column as index
market_pca_df=market_pca_df.set_index('Crypto_names')

# Display the scaled PCA DataFrame
market_pca_df.head(10)








# Create a list with the number of k-values from 1 to 11
k_pca=list(range(1,11))


# Create an empty list to store the inertia values
inertia=[]

# Create a for loop to compute the inertia with each possible value of k
# Inside the loop:
# 1. Create a KMeans model using the loop counter for the n_clusters
# 2. Fit the model to the data using `df_market_data_pca`
# 3. Append the model.inertia_ to the inertia list

for i in k_pca:
    k_model = KMeans(n_clusters=i, random_state=1)
    k_model.fit(market_pca_df)
    inertia.append(k_model.inertia_)


# Create a dictionary with the data to plot the Elbow curve
elbow_data = {'k_pca': k_pca , 'inertia': inertia}

# Create a DataFrame with the data to plot the Elbow curve
df_elbow_pca = pd.DataFrame(elbow_data)
df_elbow_pca.head(10)


# Plot a line chart with all the inertia values computed with
# the different values of k to visually identify the optimal value for k.
elbow_pca_plot = df_elbow_pca.hvplot.line(
    x="k_pca", 
    y="inertia", 
    title="Elbow Curve", 
    xticks=k
)
elbow_pca_plot








# Initialize the K-Means model using the best value for k
model = KMeans(n_clusters=4, random_state=1)


# Fit the K-Means model using the PCA data
model.fit(market_pca_df)


# Predict the clusters to group the cryptocurrencies using the scaled PCA DataFrame
k_predict = model.predict(market_pca_df)

# Print the resulting array of cluster values.
k_predict



# Create a copy of the scaled PCA DataFrame
market_pca_prediction_df = market_pca_df.copy()

# Add a new column to the DataFrame with the predicted clusters

market_pca_prediction_df['pca_prediction']= k_predict

# Display sample data
market_pca_prediction_df.head()


# Create a scatter plot using hvPlot by setting
# `x="PC1"` and `y="PC2"`.
# Color the graph points with the labels found using K-Means and
# add the crypto name in the `hover_cols` parameter to identify
# the cryptocurrency represented by each data point.


market_pca_plot=market_pca_prediction_df.hvplot.scatter(
    x="PCA1",
    y="PCA2",
    by="pca_prediction",
    hover_cols=['Crypto_names']
)
market_pca_plot





# Composite plot to contrast the Elbow curves
# YOUR CODE HERE!
elbow_plot + elbow_pca_plot


# Composite plot to contrast the clusters
# YOUR CODE HERE!
market_scaled_plot + market_pca_plot






